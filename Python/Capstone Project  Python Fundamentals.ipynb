{
 "cells": [
  {
   "cell_type": "code",
   "execution_count": 1,
   "id": "4957d0fe",
   "metadata": {},
   "outputs": [
    {
     "name": "stdout",
     "output_type": "stream",
     "text": [
      "      ID     Project     Cost    Status\n",
      "0   A001   Project 1  1002000  Finished\n",
      "1   A002   Project 2  2000000   Ongoing\n",
      "2   A003   Project 3  4500000  Finished\n",
      "3   A004   Project 4  5500000   Ongoing\n",
      "4   A005   Project 5           Finished\n",
      "5   A002   Project 6   680000    Failed\n",
      "6   A005   Project 7   400000  Finished\n",
      "7   A003   Project 8   350000    Failed\n",
      "8   A001   Project 9            Ongoing\n",
      "9   A003  Project 10   300000  Finished\n",
      "10  A001  Project 11  2000000    Failed\n",
      "11  A004  Project 12  1000000   Ongoing\n",
      "12  A004  Project 13  3000000  Finished\n",
      "13  A005  Project 14   200000  Finished\n"
     ]
    }
   ],
   "source": [
    "#Task 1\n",
    "\n",
    "# There are three different tables as given above. Please make three dataframe in python and save them as three .csv files. From Task 2 to Task 10, use the saved .csv files only.\n",
    "\n",
    "import pandas as pd\n",
    "\n",
    "# Table 1\n",
    "# Creating the DataFrame\n",
    "data = {\n",
    "    'ID': ['A001', 'A002', 'A003', 'A004', 'A005', 'A002', 'A005', 'A003', 'A001', 'A003', 'A001', 'A004', 'A004', 'A005'],\n",
    "    'Project': ['Project 1', 'Project 2', 'Project 3', 'Project 4', 'Project 5', 'Project 6', 'Project 7', 'Project 8', 'Project 9', 'Project 10', 'Project 11', 'Project 12', 'Project 13', 'Project 14'],\n",
    "    'Cost': ['1002000', '2000000', '4500000', '5500000', ' ', '680000', '400000', '350000', ' ', '300000', '2000000', '1000000', '3000000', '200000'],\n",
    "    'Status': ['Finished', 'Ongoing', 'Finished', 'Ongoing', 'Finished', 'Failed', 'Finished', 'Failed', 'Ongoing', 'Finished', 'Failed', 'Ongoing', 'Finished', 'Finished']\n",
    "}\n",
    "\n",
    "project_df = pd.DataFrame(data)\n",
    "\n",
    "# Displaying the DataFrame\n",
    "print(project_df)\n",
    "\n",
    "# Saving the DataFrame as a CSV file\n",
    "project_df.to_csv('project_data.csv', index=False)"
   ]
  },
  {
   "cell_type": "code",
   "execution_count": 2,
   "id": "a5336308",
   "metadata": {},
   "outputs": [
    {
     "name": "stdout",
     "output_type": "stream",
     "text": [
      "     ID        Name Gender     City  Age\n",
      "0  A001  John Alter      M    Paris   25\n",
      "1  A002       Alice      F   London   27\n",
      "2  A003         Tom      M   Berlin   29\n",
      "3  A004  Nina Adgra      F  Newyork   31\n",
      "4  A005   Amy Johny      F   Madrid   30\n"
     ]
    }
   ],
   "source": [
    "# Table 2\n",
    "# Creating the Employee DataFrame\n",
    "employee_data = {\n",
    "    'ID': ['A001', 'A002', 'A003', 'A004', 'A005'],\n",
    "    'Name': ['John Alter', 'Alice', 'Tom', 'Nina Adgra', 'Amy Johny'],\n",
    "    'Gender': ['M', 'F', 'M', 'F', 'F'],\n",
    "    'City': ['Paris', 'London', 'Berlin', 'Newyork', 'Madrid'],\n",
    "    'Age': [25, 27, 29, 31, 30]\n",
    "}\n",
    "\n",
    "employee_df = pd.DataFrame(employee_data)\n",
    "\n",
    "# Displaying the DataFrame\n",
    "print(employee_df)\n",
    "\n",
    "# Saving the DataFrame as a CSV file\n",
    "employee_df.to_csv('employee_data.csv', index=False)"
   ]
  },
  {
   "cell_type": "code",
   "execution_count": 3,
   "id": "4223770c",
   "metadata": {},
   "outputs": [
    {
     "name": "stdout",
     "output_type": "stream",
     "text": [
      "     ID  Designation  Level\n",
      "0  A001            2      2\n",
      "1  A002            2      2\n",
      "2  A003            3      3\n",
      "3  A004            2      2\n",
      "4  A005            3      3\n"
     ]
    }
   ],
   "source": [
    "# Table 3\n",
    "# Creating the Seniority Level DataFrame\n",
    "seniority_data = {\n",
    "    'ID': ['A001', 'A002', 'A003', 'A004', 'A005'],\n",
    "    'Designation': [2, 2, 3, 2, 3],\n",
    "    'Level': [2, 2, 3, 2, 3]\n",
    "}\n",
    "\n",
    "seniority_df = pd.DataFrame(seniority_data)\n",
    "\n",
    "# Displaying the DataFrame\n",
    "print(seniority_df)\n",
    "\n",
    "# Saving the DataFrame as a CSV file\n",
    "seniority_df.to_csv('seniority_data.csv', index=False)"
   ]
  },
  {
   "cell_type": "code",
   "execution_count": 4,
   "id": "06ec1390",
   "metadata": {},
   "outputs": [
    {
     "name": "stdout",
     "output_type": "stream",
     "text": [
      "      ID     Project       Cost    Status\n",
      "0   A001   Project 1  1002000.0  Finished\n",
      "1   A002   Project 2  2000000.0   Ongoing\n",
      "2   A003   Project 3  4500000.0  Finished\n",
      "3   A004   Project 4  5500000.0   Ongoing\n",
      "4   A005   Project 5        NaN  Finished\n",
      "5   A002   Project 6   680000.0    Failed\n",
      "6   A005   Project 7   400000.0  Finished\n",
      "7   A003   Project 8   350000.0    Failed\n",
      "8   A001   Project 9        NaN   Ongoing\n",
      "9   A003  Project 10   300000.0  Finished\n",
      "10  A001  Project 11  2000000.0    Failed\n",
      "11  A004  Project 12  1000000.0   Ongoing\n",
      "12  A004  Project 13  3000000.0  Finished\n",
      "13  A005  Project 14   200000.0  Finished\n"
     ]
    }
   ],
   "source": [
    "# Task 2\n",
    "# The cost column in the dataframe “Project” has some missing values. Your task is to compute these missing values. Replace the missing values by running average. You should use the “For” loop for this task.\n",
    "\n",
    "# Convert 'Cost' column to numeric data type\n",
    "project_df['Cost'] = pd.to_numeric(project_df['Cost'], errors='coerce')\n",
    "\n",
    "# Using a for loop to compute the missing values with running average\n",
    "running_total = 0\n",
    "count = 0\n",
    "for index, row in project_df.iterrows():\n",
    "    if pd.isnull(row['Cost']):\n",
    "        row['Cost'] = running_total / count if count > 0 else 0\n",
    "    else:\n",
    "        running_total += row['Cost']\n",
    "        count += 1\n",
    "\n",
    "# Displaying the updated DataFrame\n",
    "print(project_df)"
   ]
  },
  {
   "cell_type": "code",
   "execution_count": 5,
   "id": "121c2f38",
   "metadata": {},
   "outputs": [
    {
     "name": "stdout",
     "output_type": "stream",
     "text": [
      "     ID Gender     City  Age First Name Last Name\n",
      "0  A001      M    Paris   25       John     Alter\n",
      "1  A002      F   London   27      Alice      None\n",
      "2  A003      M   Berlin   29        Tom      None\n",
      "3  A004      F  Newyork   31       Nina     Adgra\n",
      "4  A005      F   Madrid   30        Amy     Johny\n"
     ]
    }
   ],
   "source": [
    "# Task 3\n",
    "# Split the name column in the Employee dataframe into two new columns “First Name”, and “LastName” and remove the older “name” column.\n",
    "\n",
    "# Convert 'Name' column to strings\n",
    "employee_df['Name'] = employee_df['Name'].astype(str)\n",
    "\n",
    "# Splitting the \"Name\" column into \"First Name\" and \"Last Name\"\n",
    "employee_df[['First Name', 'Last Name']] = employee_df['Name'].str.split(' ', n=1, expand=True)\n",
    "\n",
    "# Dropping the original \"Name\" column\n",
    "employee_df.drop(columns=['Name'], inplace=True)\n",
    "\n",
    "# Displaying the updated DataFrame\n",
    "print(employee_df)"
   ]
  },
  {
   "cell_type": "code",
   "execution_count": 6,
   "id": "e99f0347",
   "metadata": {},
   "outputs": [
    {
     "name": "stdout",
     "output_type": "stream",
     "text": [
      "      ID     Project       Cost    Status Gender     City  Age First Name  \\\n",
      "0   A001   Project 1  1002000.0  Finished      M    Paris   25       John   \n",
      "1   A001   Project 9        NaN   Ongoing      M    Paris   25       John   \n",
      "2   A001  Project 11  2000000.0    Failed      M    Paris   25       John   \n",
      "3   A002   Project 2  2000000.0   Ongoing      F   London   27      Alice   \n",
      "4   A002   Project 6   680000.0    Failed      F   London   27      Alice   \n",
      "5   A003   Project 3  4500000.0  Finished      M   Berlin   29        Tom   \n",
      "6   A003   Project 8   350000.0    Failed      M   Berlin   29        Tom   \n",
      "7   A003  Project 10   300000.0  Finished      M   Berlin   29        Tom   \n",
      "8   A004   Project 4  5500000.0   Ongoing      F  Newyork   31       Nina   \n",
      "9   A004  Project 12  1000000.0   Ongoing      F  Newyork   31       Nina   \n",
      "10  A004  Project 13  3000000.0  Finished      F  Newyork   31       Nina   \n",
      "11  A005   Project 5        NaN  Finished      F   Madrid   30        Amy   \n",
      "12  A005   Project 7   400000.0  Finished      F   Madrid   30        Amy   \n",
      "13  A005  Project 14   200000.0  Finished      F   Madrid   30        Amy   \n",
      "\n",
      "   Last Name  Designation  Level  \n",
      "0      Alter            2      2  \n",
      "1      Alter            2      2  \n",
      "2      Alter            2      2  \n",
      "3       None            2      2  \n",
      "4       None            2      2  \n",
      "5       None            3      3  \n",
      "6       None            3      3  \n",
      "7       None            3      3  \n",
      "8      Adgra            2      2  \n",
      "9      Adgra            2      2  \n",
      "10     Adgra            2      2  \n",
      "11     Johny            3      3  \n",
      "12     Johny            3      3  \n",
      "13     Johny            3      3  \n"
     ]
    }
   ],
   "source": [
    "# Task 4\n",
    "# Join all three dataframes in one single dataframe. Name it “Final”\n",
    "\n",
    "# Merge the three dataframes\n",
    "Final = pd.merge(project_df, employee_df, on='ID')\n",
    "Final = pd.merge(Final, seniority_df, on='ID')\n",
    "\n",
    "# Displaying the final DataFrame\n",
    "print(Final)"
   ]
  },
  {
   "cell_type": "code",
   "execution_count": 7,
   "id": "e8964949",
   "metadata": {},
   "outputs": [
    {
     "name": "stdout",
     "output_type": "stream",
     "text": [
      "      ID     Project       Cost    Status Gender     City  Age First Name  \\\n",
      "0   A001   Project 1  1002000.0  Finished      M    Paris   25       John   \n",
      "1   A001   Project 9        NaN   Ongoing      M    Paris   25       John   \n",
      "2   A001  Project 11  2000000.0    Failed      M    Paris   25       John   \n",
      "3   A002   Project 2  2000000.0   Ongoing      F   London   27      Alice   \n",
      "4   A002   Project 6   680000.0    Failed      F   London   27      Alice   \n",
      "5   A003   Project 3  4500000.0  Finished      M   Berlin   29        Tom   \n",
      "6   A003   Project 8   350000.0    Failed      M   Berlin   29        Tom   \n",
      "7   A003  Project 10   300000.0  Finished      M   Berlin   29        Tom   \n",
      "8   A004   Project 4  5500000.0   Ongoing      F  Newyork   31       Nina   \n",
      "9   A004  Project 12  1000000.0   Ongoing      F  Newyork   31       Nina   \n",
      "10  A004  Project 13  3000000.0  Finished      F  Newyork   31       Nina   \n",
      "11  A005   Project 5        NaN  Finished      F   Madrid   30        Amy   \n",
      "12  A005   Project 7   400000.0  Finished      F   Madrid   30        Amy   \n",
      "13  A005  Project 14   200000.0  Finished      F   Madrid   30        Amy   \n",
      "\n",
      "   Last Name  Designation  Level     Bonus  \n",
      "0      Alter            2      2   50100.0  \n",
      "1      Alter            2      2       0.0  \n",
      "2      Alter            2      2       0.0  \n",
      "3       None            2      2       0.0  \n",
      "4       None            2      2       0.0  \n",
      "5       None            3      3  225000.0  \n",
      "6       None            3      3       0.0  \n",
      "7       None            3      3   15000.0  \n",
      "8      Adgra            2      2       0.0  \n",
      "9      Adgra            2      2       0.0  \n",
      "10     Adgra            2      2  150000.0  \n",
      "11     Johny            3      3       NaN  \n",
      "12     Johny            3      3   20000.0  \n",
      "13     Johny            3      3   10000.0  \n"
     ]
    }
   ],
   "source": [
    "# Task 5\n",
    "# Add a new bonus column in the Final dataframe. Give a 5% bonus concerning project cost only to employees who have finished the projects.\n",
    "\n",
    "# Add a new 'Bonus' column with default value 0\n",
    "Final['Bonus'] = 0\n",
    "\n",
    "# Apply the 5% bonus to employees who have finished projects\n",
    "Final.loc[Final['Status'] == 'Finished', 'Bonus'] = Final.loc[Final['Status'] == 'Finished', 'Cost'] * 0.05\n",
    "\n",
    "# Displaying the updated DataFrame\n",
    "print(Final)"
   ]
  },
  {
   "cell_type": "code",
   "execution_count": 8,
   "id": "32b2282f",
   "metadata": {},
   "outputs": [
    {
     "name": "stdout",
     "output_type": "stream",
     "text": [
      "      ID     Project       Cost    Status Gender     City  Age First Name  \\\n",
      "0   A001   Project 1  1002000.0  Finished      M    Paris   25       John   \n",
      "1   A001   Project 9        NaN   Ongoing      M    Paris   25       John   \n",
      "2   A001  Project 11  2000000.0    Failed      M    Paris   25       John   \n",
      "3   A002   Project 2  2000000.0   Ongoing      F   London   27      Alice   \n",
      "4   A002   Project 6   680000.0    Failed      F   London   27      Alice   \n",
      "5   A003   Project 3  4500000.0  Finished      M   Berlin   29        Tom   \n",
      "6   A003   Project 8   350000.0    Failed      M   Berlin   29        Tom   \n",
      "7   A003  Project 10   300000.0  Finished      M   Berlin   29        Tom   \n",
      "8   A004   Project 4  5500000.0   Ongoing      F  Newyork   31       Nina   \n",
      "9   A004  Project 12  1000000.0   Ongoing      F  Newyork   31       Nina   \n",
      "10  A004  Project 13  3000000.0  Finished      F  Newyork   31       Nina   \n",
      "11  A005   Project 5        NaN  Finished      F   Madrid   30        Amy   \n",
      "12  A005   Project 7   400000.0  Finished      F   Madrid   30        Amy   \n",
      "13  A005  Project 14   200000.0  Finished      F   Madrid   30        Amy   \n",
      "\n",
      "   Last Name  Designation  Level     Bonus  \n",
      "0      Alter            2      2   50100.0  \n",
      "1      Alter            2      2       0.0  \n",
      "2      Alter            2      1       0.0  \n",
      "3       None            2      2       0.0  \n",
      "4       None            2      1       0.0  \n",
      "5       None            3      3  225000.0  \n",
      "6       None            3      2       0.0  \n",
      "7       None            3      3   15000.0  \n",
      "8      Adgra            2      2       0.0  \n",
      "9      Adgra            2      2       0.0  \n",
      "10     Adgra            2      2  150000.0  \n",
      "11     Johny            3      3       NaN  \n",
      "12     Johny            3      3   20000.0  \n",
      "13     Johny            3      3   10000.0  \n"
     ]
    }
   ],
   "source": [
    "# Task 6\n",
    "# Demote the designation level by 1, whose projects have status “fail”. Delete the employees record whose designation level is above 4.\n",
    "\n",
    "# Demote the designation level by 1 for employees whose projects have a status of \"Failed\"\n",
    "Final.loc[Final['Status'] == 'Failed', 'Level'] -= 1\n",
    "\n",
    "# Delete the employee records whose designation level is above 4\n",
    "Final = Final[Final['Level'] <= 4]\n",
    "\n",
    "# Displaying the updated DataFrame\n",
    "print(Final)"
   ]
  },
  {
   "cell_type": "code",
   "execution_count": 9,
   "id": "a60320fc",
   "metadata": {},
   "outputs": [
    {
     "name": "stdout",
     "output_type": "stream",
     "text": [
      "      ID     Project       Cost    Status     City  Age  First Name Last Name  \\\n",
      "0   A001   Project 1  1002000.0  Finished    Paris   25    Mr. John     Alter   \n",
      "1   A001   Project 9        NaN   Ongoing    Paris   25    Mr. John     Alter   \n",
      "2   A001  Project 11  2000000.0    Failed    Paris   25    Mr. John     Alter   \n",
      "3   A002   Project 2  2000000.0   Ongoing   London   27  Mrs. Alice      None   \n",
      "4   A002   Project 6   680000.0    Failed   London   27  Mrs. Alice      None   \n",
      "5   A003   Project 3  4500000.0  Finished   Berlin   29     Mr. Tom      None   \n",
      "6   A003   Project 8   350000.0    Failed   Berlin   29     Mr. Tom      None   \n",
      "7   A003  Project 10   300000.0  Finished   Berlin   29     Mr. Tom      None   \n",
      "8   A004   Project 4  5500000.0   Ongoing  Newyork   31   Mrs. Nina     Adgra   \n",
      "9   A004  Project 12  1000000.0   Ongoing  Newyork   31   Mrs. Nina     Adgra   \n",
      "10  A004  Project 13  3000000.0  Finished  Newyork   31   Mrs. Nina     Adgra   \n",
      "11  A005   Project 5        NaN  Finished   Madrid   30    Mrs. Amy     Johny   \n",
      "12  A005   Project 7   400000.0  Finished   Madrid   30    Mrs. Amy     Johny   \n",
      "13  A005  Project 14   200000.0  Finished   Madrid   30    Mrs. Amy     Johny   \n",
      "\n",
      "    Designation  Level     Bonus  \n",
      "0             2      2   50100.0  \n",
      "1             2      2       0.0  \n",
      "2             2      1       0.0  \n",
      "3             2      2       0.0  \n",
      "4             2      1       0.0  \n",
      "5             3      3  225000.0  \n",
      "6             3      2       0.0  \n",
      "7             3      3   15000.0  \n",
      "8             2      2       0.0  \n",
      "9             2      2       0.0  \n",
      "10            2      2  150000.0  \n",
      "11            3      3       NaN  \n",
      "12            3      3   20000.0  \n",
      "13            3      3   10000.0  \n"
     ]
    }
   ],
   "source": [
    "# Task 7\n",
    "# Add “Mr.” and “Mrs.” to the first name column and drop the gender column\n",
    "\n",
    "# Iterate over each row in the DataFrame\n",
    "for index, row in Final.iterrows():\n",
    "    # Add \"Mr.\" or \"Mrs.\" to the \"First Name\" column based on gender\n",
    "    if row['Gender'] == 'M':\n",
    "        Final.at[index, 'First Name'] = 'Mr. ' + row['First Name']\n",
    "    else:\n",
    "        Final.at[index, 'First Name'] = 'Mrs. ' + row['First Name']\n",
    "\n",
    "# Drop the \"Gender\" column\n",
    "Final.drop(columns=['Gender'], inplace=True)\n",
    "\n",
    "# Displaying the updated DataFrame\n",
    "print(Final)"
   ]
  },
  {
   "cell_type": "code",
   "execution_count": 10,
   "id": "f5cfa8fd",
   "metadata": {},
   "outputs": [
    {
     "name": "stdout",
     "output_type": "stream",
     "text": [
      "      ID     Project       Cost    Status     City  Age  First Name Last Name  \\\n",
      "0   A001   Project 1  1002000.0  Finished    Paris   25    Mr. John     Alter   \n",
      "1   A001   Project 9        NaN   Ongoing    Paris   25    Mr. John     Alter   \n",
      "2   A001  Project 11  2000000.0    Failed    Paris   25    Mr. John     Alter   \n",
      "3   A002   Project 2  2000000.0   Ongoing   London   27  Mrs. Alice      None   \n",
      "4   A002   Project 6   680000.0    Failed   London   27  Mrs. Alice      None   \n",
      "5   A003   Project 3  4500000.0  Finished   Berlin   29     Mr. Tom      None   \n",
      "6   A003   Project 8   350000.0    Failed   Berlin   29     Mr. Tom      None   \n",
      "7   A003  Project 10   300000.0  Finished   Berlin   29     Mr. Tom      None   \n",
      "8   A004   Project 4  5500000.0   Ongoing  Newyork   31   Mrs. Nina     Adgra   \n",
      "9   A004  Project 12  1000000.0   Ongoing  Newyork   31   Mrs. Nina     Adgra   \n",
      "10  A004  Project 13  3000000.0  Finished  Newyork   31   Mrs. Nina     Adgra   \n",
      "11  A005   Project 5        NaN  Finished   Madrid   30    Mrs. Amy     Johny   \n",
      "12  A005   Project 7   400000.0  Finished   Madrid   30    Mrs. Amy     Johny   \n",
      "13  A005  Project 14   200000.0  Finished   Madrid   30    Mrs. Amy     Johny   \n",
      "\n",
      "    Designation  Level     Bonus  \n",
      "0             2      2   50100.0  \n",
      "1             2      2       0.0  \n",
      "2             2      1       0.0  \n",
      "3             2      2       0.0  \n",
      "4             2      1       0.0  \n",
      "5             3      3  225000.0  \n",
      "6             3      2       0.0  \n",
      "7             3      3   15000.0  \n",
      "8             2      3       0.0  \n",
      "9             2      3       0.0  \n",
      "10            2      3  150000.0  \n",
      "11            3      4       NaN  \n",
      "12            3      4   20000.0  \n",
      "13            3      4   10000.0  \n"
     ]
    }
   ],
   "source": [
    "# Task 8\n",
    "# Promote designation level by 1 for the employees whose age is more than 29 years using IF condition.\n",
    "\n",
    "# Iterate over each row in the DataFrame\n",
    "for index, row in Final.iterrows():\n",
    "    # Check if the age is more than 29 years\n",
    "    if row['Age'] > 29:\n",
    "        # Promote designation level by 1\n",
    "        Final.at[index, 'Level'] += 1\n",
    "\n",
    "# Displaying the updated DataFrame\n",
    "print(Final)"
   ]
  },
  {
   "cell_type": "code",
   "execution_count": 11,
   "id": "72ea5e04",
   "metadata": {},
   "outputs": [
    {
     "name": "stdout",
     "output_type": "stream",
     "text": [
      "     ID  First Name  Total cost\n",
      "0  A001    Mr. John   3002000.0\n",
      "1  A002  Mrs. Alice   2680000.0\n",
      "2  A003     Mr. Tom   5150000.0\n",
      "3  A004   Mrs. Nina   9500000.0\n",
      "4  A005    Mrs. Amy    600000.0\n"
     ]
    }
   ],
   "source": [
    "# Task 9\n",
    "# Add the cost of all projects for each Employee and save it in new dataframe “TotalProjCost” with three columns ID, First Name, and Total cost\n",
    "\n",
    "# Grouping by 'ID' and 'First Name' and summing the 'Cost' column\n",
    "total_proj_cost = Final.groupby(['ID', 'First Name'])['Cost'].sum().reset_index()\n",
    "\n",
    "# Renaming the 'Cost' column to 'Total cost'\n",
    "total_proj_cost.rename(columns={'Cost': 'Total cost'}, inplace=True)\n",
    "\n",
    "# Displaying the TotalProjCost DataFrame\n",
    "print(total_proj_cost)"
   ]
  },
  {
   "cell_type": "code",
   "execution_count": 12,
   "id": "b4641089",
   "metadata": {},
   "outputs": [
    {
     "name": "stdout",
     "output_type": "stream",
     "text": [
      "      ID     Project       Cost    Status     City  Age  First Name Last Name  \\\n",
      "3   A002   Project 2  2000000.0   Ongoing   London   27  Mrs. Alice      None   \n",
      "4   A002   Project 6   680000.0    Failed   London   27  Mrs. Alice      None   \n",
      "8   A004   Project 4  5500000.0   Ongoing  Newyork   31   Mrs. Nina     Adgra   \n",
      "9   A004  Project 12  1000000.0   Ongoing  Newyork   31   Mrs. Nina     Adgra   \n",
      "10  A004  Project 13  3000000.0  Finished  Newyork   31   Mrs. Nina     Adgra   \n",
      "\n",
      "    Designation  Level     Bonus  \n",
      "3             2      2       0.0  \n",
      "4             2      1       0.0  \n",
      "8             2      3       0.0  \n",
      "9             2      3       0.0  \n",
      "10            2      3  150000.0  \n"
     ]
    }
   ],
   "source": [
    "# Task 10\n",
    "# Print all the employee details whose city name contains the letter “o” in it.\n",
    "\n",
    "# Filter the employees whose city name contains the letter \"o\"\n",
    "filtered_employees = Final[Final['City'].str.contains('o', case=False)]\n",
    "\n",
    "# Displaying the filtered employees details\n",
    "print(filtered_employees)"
   ]
  },
  {
   "cell_type": "code",
   "execution_count": null,
   "id": "a999e340",
   "metadata": {},
   "outputs": [],
   "source": []
  },
  {
   "cell_type": "code",
   "execution_count": null,
   "id": "e775dd8b",
   "metadata": {},
   "outputs": [],
   "source": []
  },
  {
   "cell_type": "code",
   "execution_count": null,
   "id": "cd2ad8dd",
   "metadata": {},
   "outputs": [],
   "source": []
  }
 ],
 "metadata": {
  "kernelspec": {
   "display_name": "Python 3 (ipykernel)",
   "language": "python",
   "name": "python3"
  },
  "language_info": {
   "codemirror_mode": {
    "name": "ipython",
    "version": 3
   },
   "file_extension": ".py",
   "mimetype": "text/x-python",
   "name": "python",
   "nbconvert_exporter": "python",
   "pygments_lexer": "ipython3",
   "version": "3.11.7"
  }
 },
 "nbformat": 4,
 "nbformat_minor": 5
}
